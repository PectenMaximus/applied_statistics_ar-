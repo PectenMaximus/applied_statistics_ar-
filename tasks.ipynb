{
 "cells": [
  {
   "cell_type": "markdown",
   "metadata": {},
   "source": [
    "# Tasks for 24-25:8651_Applied Statistics\n",
    "\n",
    "##### Author: Alec Reid\n",
    "##### Date Created: 24/11/2024\n",
    "------------------"
   ]
  },
  {
   "cell_type": "markdown",
   "metadata": {},
   "source": [
    "## Task 1 - Permutations and Combinations\n",
    "\n",
    "##### **Task Instructions**\n",
    "\n",
    "*Suppose we alter the Lady Tasting Tea experiment to involve twelve cups of tea. Six have the milk in first and the other six having tea in first. A person claims they have the special power of being able to tell whether the tea or the milk went into a cup first upon tasting it. You agree to accept their claim if they can tell which of the six cups in your experiment had the milk in first. Calculate, using Python, the probability that they select the correct six cups. Here you should assume that they have no special powers in figuring it out, that they are just guessing. Remember to show and justify your workings in code and MarkDown cells. Suppose, now, you are willing to accept one error. Once they select the six cups they think had the milk in first, you will give them the benefit of the doubt should they have selected at least five of the correct cups. Calculate the probability, assuming they have no special powers, that the person makes at most one error. Would you accept two errors? Explain.*\n",
    "\n",
    "#### **References**\n",
    "- https://docs.python.org/3/library/math.html#math.comb\n",
    "- https://github.com/ianmcloughlin/2425_applied_statistics/blob/main/02_lady_tasting_tea.ipynb\n",
    "- https://docs.python.org/3/library/itertools.html#itertools.combinations"
   ]
  },
  {
   "cell_type": "markdown",
   "metadata": {},
   "source": [
    "#### **Workings**\n",
    "1. Conduct Imports"
   ]
  },
  {
   "cell_type": "code",
   "execution_count": 2,
   "metadata": {},
   "outputs": [],
   "source": [
    "# Mathematical functions from the standard library.\n",
    "import math\n",
    "\n",
    "# Permutations and combinations.\n",
    "import itertools\n",
    "\n",
    "# Random selections.\n",
    "import random\n",
    "\n",
    "# Numerical structures and operations.\n",
    "import numpy as np\n",
    "\n",
    "# Plotting.\n",
    "import matplotlib.pyplot as plt"
   ]
  },
  {
   "cell_type": "markdown",
   "metadata": {},
   "source": [
    "2. Define Cups "
   ]
  },
  {
   "cell_type": "code",
   "execution_count": 3,
   "metadata": {},
   "outputs": [],
   "source": [
    "# Number of cups of tea in total.\n",
    "no_cups = 12\n",
    "\n",
    "# Number of cups of tea with milk in first.\n",
    "no_cups_milk_first = 6\n",
    "\n",
    "# Number of cups of tea with tea in first.\n",
    "no_cups_tea_first = 6"
   ]
  },
  {
   "cell_type": "markdown",
   "metadata": {},
   "source": [
    "3. Order is not important here, we are only interested in correct identifications - Reptition is also not a concern as the same cup can not be selected twice - So we want to calculate the number of ways to choose no_cups_milk_first from the no_cups. "
   ]
  },
  {
   "cell_type": "code",
   "execution_count": null,
   "metadata": {},
   "outputs": [
    {
     "name": "stdout",
     "output_type": "stream",
     "text": [
      "924\n"
     ]
    }
   ],
   "source": [
    "# Number of ways of selecting six cups from twelve.\n",
    "ways = math.comb(no_cups, no_cups_milk_first)\n",
    "\n",
    "# Show.\n",
    "print (ways)"
   ]
  },
  {
   "cell_type": "markdown",
   "metadata": {},
   "source": [
    "4. Assign which 6 cups had milk addedd before tea and which 6 has milk added after tea - order is not critical as all we are interested in is correct identifications"
   ]
  },
  {
   "cell_type": "code",
   "execution_count": null,
   "metadata": {},
   "outputs": [
    {
     "data": {
      "text/plain": [
       "[0, 1, 2, 3, 4, 5, 6, 7, 8, 9, 10, 11]"
      ]
     },
     "execution_count": 11,
     "metadata": {},
     "output_type": "execute_result"
    }
   ],
   "source": [
    "# The cup labels.\n",
    "labels = list(range(no_cups))\n",
    "\n",
    "# Show.\n",
    "print (labels)\n",
    "            \n"
   ]
  },
  {
   "cell_type": "code",
   "execution_count": null,
   "metadata": {},
   "outputs": [
    {
     "name": "stdout",
     "output_type": "stream",
     "text": [
      "[(0, 1, 2, 3, 4, 5), (0, 1, 2, 3, 4, 6), (0, 1, 2, 3, 4, 7), (0, 1, 2, 3, 4, 8), (0, 1, 2, 3, 4, 9), (0, 1, 2, 3, 4, 10), (0, 1, 2, 3, 4, 11), (0, 1, 2, 3, 5, 6), (0, 1, 2, 3, 5, 7), (0, 1, 2, 3, 5, 8), (0, 1, 2, 3, 5, 9), (0, 1, 2, 3, 5, 10), (0, 1, 2, 3, 5, 11), (0, 1, 2, 3, 6, 7), (0, 1, 2, 3, 6, 8), (0, 1, 2, 3, 6, 9), (0, 1, 2, 3, 6, 10), (0, 1, 2, 3, 6, 11), (0, 1, 2, 3, 7, 8), (0, 1, 2, 3, 7, 9), (0, 1, 2, 3, 7, 10), (0, 1, 2, 3, 7, 11), (0, 1, 2, 3, 8, 9), (0, 1, 2, 3, 8, 10), (0, 1, 2, 3, 8, 11), (0, 1, 2, 3, 9, 10), (0, 1, 2, 3, 9, 11), (0, 1, 2, 3, 10, 11), (0, 1, 2, 4, 5, 6), (0, 1, 2, 4, 5, 7), (0, 1, 2, 4, 5, 8), (0, 1, 2, 4, 5, 9), (0, 1, 2, 4, 5, 10), (0, 1, 2, 4, 5, 11), (0, 1, 2, 4, 6, 7), (0, 1, 2, 4, 6, 8), (0, 1, 2, 4, 6, 9), (0, 1, 2, 4, 6, 10), (0, 1, 2, 4, 6, 11), (0, 1, 2, 4, 7, 8), (0, 1, 2, 4, 7, 9), (0, 1, 2, 4, 7, 10), (0, 1, 2, 4, 7, 11), (0, 1, 2, 4, 8, 9), (0, 1, 2, 4, 8, 10), (0, 1, 2, 4, 8, 11), (0, 1, 2, 4, 9, 10), (0, 1, 2, 4, 9, 11), (0, 1, 2, 4, 10, 11), (0, 1, 2, 5, 6, 7), (0, 1, 2, 5, 6, 8), (0, 1, 2, 5, 6, 9), (0, 1, 2, 5, 6, 10), (0, 1, 2, 5, 6, 11), (0, 1, 2, 5, 7, 8), (0, 1, 2, 5, 7, 9), (0, 1, 2, 5, 7, 10), (0, 1, 2, 5, 7, 11), (0, 1, 2, 5, 8, 9), (0, 1, 2, 5, 8, 10), (0, 1, 2, 5, 8, 11), (0, 1, 2, 5, 9, 10), (0, 1, 2, 5, 9, 11), (0, 1, 2, 5, 10, 11), (0, 1, 2, 6, 7, 8), (0, 1, 2, 6, 7, 9), (0, 1, 2, 6, 7, 10), (0, 1, 2, 6, 7, 11), (0, 1, 2, 6, 8, 9), (0, 1, 2, 6, 8, 10), (0, 1, 2, 6, 8, 11), (0, 1, 2, 6, 9, 10), (0, 1, 2, 6, 9, 11), (0, 1, 2, 6, 10, 11), (0, 1, 2, 7, 8, 9), (0, 1, 2, 7, 8, 10), (0, 1, 2, 7, 8, 11), (0, 1, 2, 7, 9, 10), (0, 1, 2, 7, 9, 11), (0, 1, 2, 7, 10, 11), (0, 1, 2, 8, 9, 10), (0, 1, 2, 8, 9, 11), (0, 1, 2, 8, 10, 11), (0, 1, 2, 9, 10, 11), (0, 1, 3, 4, 5, 6), (0, 1, 3, 4, 5, 7), (0, 1, 3, 4, 5, 8), (0, 1, 3, 4, 5, 9), (0, 1, 3, 4, 5, 10), (0, 1, 3, 4, 5, 11), (0, 1, 3, 4, 6, 7), (0, 1, 3, 4, 6, 8), (0, 1, 3, 4, 6, 9), (0, 1, 3, 4, 6, 10), (0, 1, 3, 4, 6, 11), (0, 1, 3, 4, 7, 8), (0, 1, 3, 4, 7, 9), (0, 1, 3, 4, 7, 10), (0, 1, 3, 4, 7, 11), (0, 1, 3, 4, 8, 9), (0, 1, 3, 4, 8, 10), (0, 1, 3, 4, 8, 11), (0, 1, 3, 4, 9, 10), (0, 1, 3, 4, 9, 11), (0, 1, 3, 4, 10, 11), (0, 1, 3, 5, 6, 7), (0, 1, 3, 5, 6, 8), (0, 1, 3, 5, 6, 9), (0, 1, 3, 5, 6, 10), (0, 1, 3, 5, 6, 11), (0, 1, 3, 5, 7, 8), (0, 1, 3, 5, 7, 9), (0, 1, 3, 5, 7, 10), (0, 1, 3, 5, 7, 11), (0, 1, 3, 5, 8, 9), (0, 1, 3, 5, 8, 10), (0, 1, 3, 5, 8, 11), (0, 1, 3, 5, 9, 10), (0, 1, 3, 5, 9, 11), (0, 1, 3, 5, 10, 11), (0, 1, 3, 6, 7, 8), (0, 1, 3, 6, 7, 9), (0, 1, 3, 6, 7, 10), (0, 1, 3, 6, 7, 11), (0, 1, 3, 6, 8, 9), (0, 1, 3, 6, 8, 10), (0, 1, 3, 6, 8, 11), (0, 1, 3, 6, 9, 10), (0, 1, 3, 6, 9, 11), (0, 1, 3, 6, 10, 11), (0, 1, 3, 7, 8, 9), (0, 1, 3, 7, 8, 10), (0, 1, 3, 7, 8, 11), (0, 1, 3, 7, 9, 10), (0, 1, 3, 7, 9, 11), (0, 1, 3, 7, 10, 11), (0, 1, 3, 8, 9, 10), (0, 1, 3, 8, 9, 11), (0, 1, 3, 8, 10, 11), (0, 1, 3, 9, 10, 11), (0, 1, 4, 5, 6, 7), (0, 1, 4, 5, 6, 8), (0, 1, 4, 5, 6, 9), (0, 1, 4, 5, 6, 10), (0, 1, 4, 5, 6, 11), (0, 1, 4, 5, 7, 8), (0, 1, 4, 5, 7, 9), (0, 1, 4, 5, 7, 10), (0, 1, 4, 5, 7, 11), (0, 1, 4, 5, 8, 9), (0, 1, 4, 5, 8, 10), (0, 1, 4, 5, 8, 11), (0, 1, 4, 5, 9, 10), (0, 1, 4, 5, 9, 11), (0, 1, 4, 5, 10, 11), (0, 1, 4, 6, 7, 8), (0, 1, 4, 6, 7, 9), (0, 1, 4, 6, 7, 10), (0, 1, 4, 6, 7, 11), (0, 1, 4, 6, 8, 9), (0, 1, 4, 6, 8, 10), (0, 1, 4, 6, 8, 11), (0, 1, 4, 6, 9, 10), (0, 1, 4, 6, 9, 11), (0, 1, 4, 6, 10, 11), (0, 1, 4, 7, 8, 9), (0, 1, 4, 7, 8, 10), (0, 1, 4, 7, 8, 11), (0, 1, 4, 7, 9, 10), (0, 1, 4, 7, 9, 11), (0, 1, 4, 7, 10, 11), (0, 1, 4, 8, 9, 10), (0, 1, 4, 8, 9, 11), (0, 1, 4, 8, 10, 11), (0, 1, 4, 9, 10, 11), (0, 1, 5, 6, 7, 8), (0, 1, 5, 6, 7, 9), (0, 1, 5, 6, 7, 10), (0, 1, 5, 6, 7, 11), (0, 1, 5, 6, 8, 9), (0, 1, 5, 6, 8, 10), (0, 1, 5, 6, 8, 11), (0, 1, 5, 6, 9, 10), (0, 1, 5, 6, 9, 11), (0, 1, 5, 6, 10, 11), (0, 1, 5, 7, 8, 9), (0, 1, 5, 7, 8, 10), (0, 1, 5, 7, 8, 11), (0, 1, 5, 7, 9, 10), (0, 1, 5, 7, 9, 11), (0, 1, 5, 7, 10, 11), (0, 1, 5, 8, 9, 10), (0, 1, 5, 8, 9, 11), (0, 1, 5, 8, 10, 11), (0, 1, 5, 9, 10, 11), (0, 1, 6, 7, 8, 9), (0, 1, 6, 7, 8, 10), (0, 1, 6, 7, 8, 11), (0, 1, 6, 7, 9, 10), (0, 1, 6, 7, 9, 11), (0, 1, 6, 7, 10, 11), (0, 1, 6, 8, 9, 10), (0, 1, 6, 8, 9, 11), (0, 1, 6, 8, 10, 11), (0, 1, 6, 9, 10, 11), (0, 1, 7, 8, 9, 10), (0, 1, 7, 8, 9, 11), (0, 1, 7, 8, 10, 11), (0, 1, 7, 9, 10, 11), (0, 1, 8, 9, 10, 11), (0, 2, 3, 4, 5, 6), (0, 2, 3, 4, 5, 7), (0, 2, 3, 4, 5, 8), (0, 2, 3, 4, 5, 9), (0, 2, 3, 4, 5, 10), (0, 2, 3, 4, 5, 11), (0, 2, 3, 4, 6, 7), (0, 2, 3, 4, 6, 8), (0, 2, 3, 4, 6, 9), (0, 2, 3, 4, 6, 10), (0, 2, 3, 4, 6, 11), (0, 2, 3, 4, 7, 8), (0, 2, 3, 4, 7, 9), (0, 2, 3, 4, 7, 10), (0, 2, 3, 4, 7, 11), (0, 2, 3, 4, 8, 9), (0, 2, 3, 4, 8, 10), (0, 2, 3, 4, 8, 11), (0, 2, 3, 4, 9, 10), (0, 2, 3, 4, 9, 11), (0, 2, 3, 4, 10, 11), (0, 2, 3, 5, 6, 7), (0, 2, 3, 5, 6, 8), (0, 2, 3, 5, 6, 9), (0, 2, 3, 5, 6, 10), (0, 2, 3, 5, 6, 11), (0, 2, 3, 5, 7, 8), (0, 2, 3, 5, 7, 9), (0, 2, 3, 5, 7, 10), (0, 2, 3, 5, 7, 11), (0, 2, 3, 5, 8, 9), (0, 2, 3, 5, 8, 10), (0, 2, 3, 5, 8, 11), (0, 2, 3, 5, 9, 10), (0, 2, 3, 5, 9, 11), (0, 2, 3, 5, 10, 11), (0, 2, 3, 6, 7, 8), (0, 2, 3, 6, 7, 9), (0, 2, 3, 6, 7, 10), (0, 2, 3, 6, 7, 11), (0, 2, 3, 6, 8, 9), (0, 2, 3, 6, 8, 10), (0, 2, 3, 6, 8, 11), (0, 2, 3, 6, 9, 10), (0, 2, 3, 6, 9, 11), (0, 2, 3, 6, 10, 11), (0, 2, 3, 7, 8, 9), (0, 2, 3, 7, 8, 10), (0, 2, 3, 7, 8, 11), (0, 2, 3, 7, 9, 10), (0, 2, 3, 7, 9, 11), (0, 2, 3, 7, 10, 11), (0, 2, 3, 8, 9, 10), (0, 2, 3, 8, 9, 11), (0, 2, 3, 8, 10, 11), (0, 2, 3, 9, 10, 11), (0, 2, 4, 5, 6, 7), (0, 2, 4, 5, 6, 8), (0, 2, 4, 5, 6, 9), (0, 2, 4, 5, 6, 10), (0, 2, 4, 5, 6, 11), (0, 2, 4, 5, 7, 8), (0, 2, 4, 5, 7, 9), (0, 2, 4, 5, 7, 10), (0, 2, 4, 5, 7, 11), (0, 2, 4, 5, 8, 9), (0, 2, 4, 5, 8, 10), (0, 2, 4, 5, 8, 11), (0, 2, 4, 5, 9, 10), (0, 2, 4, 5, 9, 11), (0, 2, 4, 5, 10, 11), (0, 2, 4, 6, 7, 8), (0, 2, 4, 6, 7, 9), (0, 2, 4, 6, 7, 10), (0, 2, 4, 6, 7, 11), (0, 2, 4, 6, 8, 9), (0, 2, 4, 6, 8, 10), (0, 2, 4, 6, 8, 11), (0, 2, 4, 6, 9, 10), (0, 2, 4, 6, 9, 11), (0, 2, 4, 6, 10, 11), (0, 2, 4, 7, 8, 9), (0, 2, 4, 7, 8, 10), (0, 2, 4, 7, 8, 11), (0, 2, 4, 7, 9, 10), (0, 2, 4, 7, 9, 11), (0, 2, 4, 7, 10, 11), (0, 2, 4, 8, 9, 10), (0, 2, 4, 8, 9, 11), (0, 2, 4, 8, 10, 11), (0, 2, 4, 9, 10, 11), (0, 2, 5, 6, 7, 8), (0, 2, 5, 6, 7, 9), (0, 2, 5, 6, 7, 10), (0, 2, 5, 6, 7, 11), (0, 2, 5, 6, 8, 9), (0, 2, 5, 6, 8, 10), (0, 2, 5, 6, 8, 11), (0, 2, 5, 6, 9, 10), (0, 2, 5, 6, 9, 11), (0, 2, 5, 6, 10, 11), (0, 2, 5, 7, 8, 9), (0, 2, 5, 7, 8, 10), (0, 2, 5, 7, 8, 11), (0, 2, 5, 7, 9, 10), (0, 2, 5, 7, 9, 11), (0, 2, 5, 7, 10, 11), (0, 2, 5, 8, 9, 10), (0, 2, 5, 8, 9, 11), (0, 2, 5, 8, 10, 11), (0, 2, 5, 9, 10, 11), (0, 2, 6, 7, 8, 9), (0, 2, 6, 7, 8, 10), (0, 2, 6, 7, 8, 11), (0, 2, 6, 7, 9, 10), (0, 2, 6, 7, 9, 11), (0, 2, 6, 7, 10, 11), (0, 2, 6, 8, 9, 10), (0, 2, 6, 8, 9, 11), (0, 2, 6, 8, 10, 11), (0, 2, 6, 9, 10, 11), (0, 2, 7, 8, 9, 10), (0, 2, 7, 8, 9, 11), (0, 2, 7, 8, 10, 11), (0, 2, 7, 9, 10, 11), (0, 2, 8, 9, 10, 11), (0, 3, 4, 5, 6, 7), (0, 3, 4, 5, 6, 8), (0, 3, 4, 5, 6, 9), (0, 3, 4, 5, 6, 10), (0, 3, 4, 5, 6, 11), (0, 3, 4, 5, 7, 8), (0, 3, 4, 5, 7, 9), (0, 3, 4, 5, 7, 10), (0, 3, 4, 5, 7, 11), (0, 3, 4, 5, 8, 9), (0, 3, 4, 5, 8, 10), (0, 3, 4, 5, 8, 11), (0, 3, 4, 5, 9, 10), (0, 3, 4, 5, 9, 11), (0, 3, 4, 5, 10, 11), (0, 3, 4, 6, 7, 8), (0, 3, 4, 6, 7, 9), (0, 3, 4, 6, 7, 10), (0, 3, 4, 6, 7, 11), (0, 3, 4, 6, 8, 9), (0, 3, 4, 6, 8, 10), (0, 3, 4, 6, 8, 11), (0, 3, 4, 6, 9, 10), (0, 3, 4, 6, 9, 11), (0, 3, 4, 6, 10, 11), (0, 3, 4, 7, 8, 9), (0, 3, 4, 7, 8, 10), (0, 3, 4, 7, 8, 11), (0, 3, 4, 7, 9, 10), (0, 3, 4, 7, 9, 11), (0, 3, 4, 7, 10, 11), (0, 3, 4, 8, 9, 10), (0, 3, 4, 8, 9, 11), (0, 3, 4, 8, 10, 11), (0, 3, 4, 9, 10, 11), (0, 3, 5, 6, 7, 8), (0, 3, 5, 6, 7, 9), (0, 3, 5, 6, 7, 10), (0, 3, 5, 6, 7, 11), (0, 3, 5, 6, 8, 9), (0, 3, 5, 6, 8, 10), (0, 3, 5, 6, 8, 11), (0, 3, 5, 6, 9, 10), (0, 3, 5, 6, 9, 11), (0, 3, 5, 6, 10, 11), (0, 3, 5, 7, 8, 9), (0, 3, 5, 7, 8, 10), (0, 3, 5, 7, 8, 11), (0, 3, 5, 7, 9, 10), (0, 3, 5, 7, 9, 11), (0, 3, 5, 7, 10, 11), (0, 3, 5, 8, 9, 10), (0, 3, 5, 8, 9, 11), (0, 3, 5, 8, 10, 11), (0, 3, 5, 9, 10, 11), (0, 3, 6, 7, 8, 9), (0, 3, 6, 7, 8, 10), (0, 3, 6, 7, 8, 11), (0, 3, 6, 7, 9, 10), (0, 3, 6, 7, 9, 11), (0, 3, 6, 7, 10, 11), (0, 3, 6, 8, 9, 10), (0, 3, 6, 8, 9, 11), (0, 3, 6, 8, 10, 11), (0, 3, 6, 9, 10, 11), (0, 3, 7, 8, 9, 10), (0, 3, 7, 8, 9, 11), (0, 3, 7, 8, 10, 11), (0, 3, 7, 9, 10, 11), (0, 3, 8, 9, 10, 11), (0, 4, 5, 6, 7, 8), (0, 4, 5, 6, 7, 9), (0, 4, 5, 6, 7, 10), (0, 4, 5, 6, 7, 11), (0, 4, 5, 6, 8, 9), (0, 4, 5, 6, 8, 10), (0, 4, 5, 6, 8, 11), (0, 4, 5, 6, 9, 10), (0, 4, 5, 6, 9, 11), (0, 4, 5, 6, 10, 11), (0, 4, 5, 7, 8, 9), (0, 4, 5, 7, 8, 10), (0, 4, 5, 7, 8, 11), (0, 4, 5, 7, 9, 10), (0, 4, 5, 7, 9, 11), (0, 4, 5, 7, 10, 11), (0, 4, 5, 8, 9, 10), (0, 4, 5, 8, 9, 11), (0, 4, 5, 8, 10, 11), (0, 4, 5, 9, 10, 11), (0, 4, 6, 7, 8, 9), (0, 4, 6, 7, 8, 10), (0, 4, 6, 7, 8, 11), (0, 4, 6, 7, 9, 10), (0, 4, 6, 7, 9, 11), (0, 4, 6, 7, 10, 11), (0, 4, 6, 8, 9, 10), (0, 4, 6, 8, 9, 11), (0, 4, 6, 8, 10, 11), (0, 4, 6, 9, 10, 11), (0, 4, 7, 8, 9, 10), (0, 4, 7, 8, 9, 11), (0, 4, 7, 8, 10, 11), (0, 4, 7, 9, 10, 11), (0, 4, 8, 9, 10, 11), (0, 5, 6, 7, 8, 9), (0, 5, 6, 7, 8, 10), (0, 5, 6, 7, 8, 11), (0, 5, 6, 7, 9, 10), (0, 5, 6, 7, 9, 11), (0, 5, 6, 7, 10, 11), (0, 5, 6, 8, 9, 10), (0, 5, 6, 8, 9, 11), (0, 5, 6, 8, 10, 11), (0, 5, 6, 9, 10, 11), (0, 5, 7, 8, 9, 10), (0, 5, 7, 8, 9, 11), (0, 5, 7, 8, 10, 11), (0, 5, 7, 9, 10, 11), (0, 5, 8, 9, 10, 11), (0, 6, 7, 8, 9, 10), (0, 6, 7, 8, 9, 11), (0, 6, 7, 8, 10, 11), (0, 6, 7, 9, 10, 11), (0, 6, 8, 9, 10, 11), (0, 7, 8, 9, 10, 11), (1, 2, 3, 4, 5, 6), (1, 2, 3, 4, 5, 7), (1, 2, 3, 4, 5, 8), (1, 2, 3, 4, 5, 9), (1, 2, 3, 4, 5, 10), (1, 2, 3, 4, 5, 11), (1, 2, 3, 4, 6, 7), (1, 2, 3, 4, 6, 8), (1, 2, 3, 4, 6, 9), (1, 2, 3, 4, 6, 10), (1, 2, 3, 4, 6, 11), (1, 2, 3, 4, 7, 8), (1, 2, 3, 4, 7, 9), (1, 2, 3, 4, 7, 10), (1, 2, 3, 4, 7, 11), (1, 2, 3, 4, 8, 9), (1, 2, 3, 4, 8, 10), (1, 2, 3, 4, 8, 11), (1, 2, 3, 4, 9, 10), (1, 2, 3, 4, 9, 11), (1, 2, 3, 4, 10, 11), (1, 2, 3, 5, 6, 7), (1, 2, 3, 5, 6, 8), (1, 2, 3, 5, 6, 9), (1, 2, 3, 5, 6, 10), (1, 2, 3, 5, 6, 11), (1, 2, 3, 5, 7, 8), (1, 2, 3, 5, 7, 9), (1, 2, 3, 5, 7, 10), (1, 2, 3, 5, 7, 11), (1, 2, 3, 5, 8, 9), (1, 2, 3, 5, 8, 10), (1, 2, 3, 5, 8, 11), (1, 2, 3, 5, 9, 10), (1, 2, 3, 5, 9, 11), (1, 2, 3, 5, 10, 11), (1, 2, 3, 6, 7, 8), (1, 2, 3, 6, 7, 9), (1, 2, 3, 6, 7, 10), (1, 2, 3, 6, 7, 11), (1, 2, 3, 6, 8, 9), (1, 2, 3, 6, 8, 10), (1, 2, 3, 6, 8, 11), (1, 2, 3, 6, 9, 10), (1, 2, 3, 6, 9, 11), (1, 2, 3, 6, 10, 11), (1, 2, 3, 7, 8, 9), (1, 2, 3, 7, 8, 10), (1, 2, 3, 7, 8, 11), (1, 2, 3, 7, 9, 10), (1, 2, 3, 7, 9, 11), (1, 2, 3, 7, 10, 11), (1, 2, 3, 8, 9, 10), (1, 2, 3, 8, 9, 11), (1, 2, 3, 8, 10, 11), (1, 2, 3, 9, 10, 11), (1, 2, 4, 5, 6, 7), (1, 2, 4, 5, 6, 8), (1, 2, 4, 5, 6, 9), (1, 2, 4, 5, 6, 10), (1, 2, 4, 5, 6, 11), (1, 2, 4, 5, 7, 8), (1, 2, 4, 5, 7, 9), (1, 2, 4, 5, 7, 10), (1, 2, 4, 5, 7, 11), (1, 2, 4, 5, 8, 9), (1, 2, 4, 5, 8, 10), (1, 2, 4, 5, 8, 11), (1, 2, 4, 5, 9, 10), (1, 2, 4, 5, 9, 11), (1, 2, 4, 5, 10, 11), (1, 2, 4, 6, 7, 8), (1, 2, 4, 6, 7, 9), (1, 2, 4, 6, 7, 10), (1, 2, 4, 6, 7, 11), (1, 2, 4, 6, 8, 9), (1, 2, 4, 6, 8, 10), (1, 2, 4, 6, 8, 11), (1, 2, 4, 6, 9, 10), (1, 2, 4, 6, 9, 11), (1, 2, 4, 6, 10, 11), (1, 2, 4, 7, 8, 9), (1, 2, 4, 7, 8, 10), (1, 2, 4, 7, 8, 11), (1, 2, 4, 7, 9, 10), (1, 2, 4, 7, 9, 11), (1, 2, 4, 7, 10, 11), (1, 2, 4, 8, 9, 10), (1, 2, 4, 8, 9, 11), (1, 2, 4, 8, 10, 11), (1, 2, 4, 9, 10, 11), (1, 2, 5, 6, 7, 8), (1, 2, 5, 6, 7, 9), (1, 2, 5, 6, 7, 10), (1, 2, 5, 6, 7, 11), (1, 2, 5, 6, 8, 9), (1, 2, 5, 6, 8, 10), (1, 2, 5, 6, 8, 11), (1, 2, 5, 6, 9, 10), (1, 2, 5, 6, 9, 11), (1, 2, 5, 6, 10, 11), (1, 2, 5, 7, 8, 9), (1, 2, 5, 7, 8, 10), (1, 2, 5, 7, 8, 11), (1, 2, 5, 7, 9, 10), (1, 2, 5, 7, 9, 11), (1, 2, 5, 7, 10, 11), (1, 2, 5, 8, 9, 10), (1, 2, 5, 8, 9, 11), (1, 2, 5, 8, 10, 11), (1, 2, 5, 9, 10, 11), (1, 2, 6, 7, 8, 9), (1, 2, 6, 7, 8, 10), (1, 2, 6, 7, 8, 11), (1, 2, 6, 7, 9, 10), (1, 2, 6, 7, 9, 11), (1, 2, 6, 7, 10, 11), (1, 2, 6, 8, 9, 10), (1, 2, 6, 8, 9, 11), (1, 2, 6, 8, 10, 11), (1, 2, 6, 9, 10, 11), (1, 2, 7, 8, 9, 10), (1, 2, 7, 8, 9, 11), (1, 2, 7, 8, 10, 11), (1, 2, 7, 9, 10, 11), (1, 2, 8, 9, 10, 11), (1, 3, 4, 5, 6, 7), (1, 3, 4, 5, 6, 8), (1, 3, 4, 5, 6, 9), (1, 3, 4, 5, 6, 10), (1, 3, 4, 5, 6, 11), (1, 3, 4, 5, 7, 8), (1, 3, 4, 5, 7, 9), (1, 3, 4, 5, 7, 10), (1, 3, 4, 5, 7, 11), (1, 3, 4, 5, 8, 9), (1, 3, 4, 5, 8, 10), (1, 3, 4, 5, 8, 11), (1, 3, 4, 5, 9, 10), (1, 3, 4, 5, 9, 11), (1, 3, 4, 5, 10, 11), (1, 3, 4, 6, 7, 8), (1, 3, 4, 6, 7, 9), (1, 3, 4, 6, 7, 10), (1, 3, 4, 6, 7, 11), (1, 3, 4, 6, 8, 9), (1, 3, 4, 6, 8, 10), (1, 3, 4, 6, 8, 11), (1, 3, 4, 6, 9, 10), (1, 3, 4, 6, 9, 11), (1, 3, 4, 6, 10, 11), (1, 3, 4, 7, 8, 9), (1, 3, 4, 7, 8, 10), (1, 3, 4, 7, 8, 11), (1, 3, 4, 7, 9, 10), (1, 3, 4, 7, 9, 11), (1, 3, 4, 7, 10, 11), (1, 3, 4, 8, 9, 10), (1, 3, 4, 8, 9, 11), (1, 3, 4, 8, 10, 11), (1, 3, 4, 9, 10, 11), (1, 3, 5, 6, 7, 8), (1, 3, 5, 6, 7, 9), (1, 3, 5, 6, 7, 10), (1, 3, 5, 6, 7, 11), (1, 3, 5, 6, 8, 9), (1, 3, 5, 6, 8, 10), (1, 3, 5, 6, 8, 11), (1, 3, 5, 6, 9, 10), (1, 3, 5, 6, 9, 11), (1, 3, 5, 6, 10, 11), (1, 3, 5, 7, 8, 9), (1, 3, 5, 7, 8, 10), (1, 3, 5, 7, 8, 11), (1, 3, 5, 7, 9, 10), (1, 3, 5, 7, 9, 11), (1, 3, 5, 7, 10, 11), (1, 3, 5, 8, 9, 10), (1, 3, 5, 8, 9, 11), (1, 3, 5, 8, 10, 11), (1, 3, 5, 9, 10, 11), (1, 3, 6, 7, 8, 9), (1, 3, 6, 7, 8, 10), (1, 3, 6, 7, 8, 11), (1, 3, 6, 7, 9, 10), (1, 3, 6, 7, 9, 11), (1, 3, 6, 7, 10, 11), (1, 3, 6, 8, 9, 10), (1, 3, 6, 8, 9, 11), (1, 3, 6, 8, 10, 11), (1, 3, 6, 9, 10, 11), (1, 3, 7, 8, 9, 10), (1, 3, 7, 8, 9, 11), (1, 3, 7, 8, 10, 11), (1, 3, 7, 9, 10, 11), (1, 3, 8, 9, 10, 11), (1, 4, 5, 6, 7, 8), (1, 4, 5, 6, 7, 9), (1, 4, 5, 6, 7, 10), (1, 4, 5, 6, 7, 11), (1, 4, 5, 6, 8, 9), (1, 4, 5, 6, 8, 10), (1, 4, 5, 6, 8, 11), (1, 4, 5, 6, 9, 10), (1, 4, 5, 6, 9, 11), (1, 4, 5, 6, 10, 11), (1, 4, 5, 7, 8, 9), (1, 4, 5, 7, 8, 10), (1, 4, 5, 7, 8, 11), (1, 4, 5, 7, 9, 10), (1, 4, 5, 7, 9, 11), (1, 4, 5, 7, 10, 11), (1, 4, 5, 8, 9, 10), (1, 4, 5, 8, 9, 11), (1, 4, 5, 8, 10, 11), (1, 4, 5, 9, 10, 11), (1, 4, 6, 7, 8, 9), (1, 4, 6, 7, 8, 10), (1, 4, 6, 7, 8, 11), (1, 4, 6, 7, 9, 10), (1, 4, 6, 7, 9, 11), (1, 4, 6, 7, 10, 11), (1, 4, 6, 8, 9, 10), (1, 4, 6, 8, 9, 11), (1, 4, 6, 8, 10, 11), (1, 4, 6, 9, 10, 11), (1, 4, 7, 8, 9, 10), (1, 4, 7, 8, 9, 11), (1, 4, 7, 8, 10, 11), (1, 4, 7, 9, 10, 11), (1, 4, 8, 9, 10, 11), (1, 5, 6, 7, 8, 9), (1, 5, 6, 7, 8, 10), (1, 5, 6, 7, 8, 11), (1, 5, 6, 7, 9, 10), (1, 5, 6, 7, 9, 11), (1, 5, 6, 7, 10, 11), (1, 5, 6, 8, 9, 10), (1, 5, 6, 8, 9, 11), (1, 5, 6, 8, 10, 11), (1, 5, 6, 9, 10, 11), (1, 5, 7, 8, 9, 10), (1, 5, 7, 8, 9, 11), (1, 5, 7, 8, 10, 11), (1, 5, 7, 9, 10, 11), (1, 5, 8, 9, 10, 11), (1, 6, 7, 8, 9, 10), (1, 6, 7, 8, 9, 11), (1, 6, 7, 8, 10, 11), (1, 6, 7, 9, 10, 11), (1, 6, 8, 9, 10, 11), (1, 7, 8, 9, 10, 11), (2, 3, 4, 5, 6, 7), (2, 3, 4, 5, 6, 8), (2, 3, 4, 5, 6, 9), (2, 3, 4, 5, 6, 10), (2, 3, 4, 5, 6, 11), (2, 3, 4, 5, 7, 8), (2, 3, 4, 5, 7, 9), (2, 3, 4, 5, 7, 10), (2, 3, 4, 5, 7, 11), (2, 3, 4, 5, 8, 9), (2, 3, 4, 5, 8, 10), (2, 3, 4, 5, 8, 11), (2, 3, 4, 5, 9, 10), (2, 3, 4, 5, 9, 11), (2, 3, 4, 5, 10, 11), (2, 3, 4, 6, 7, 8), (2, 3, 4, 6, 7, 9), (2, 3, 4, 6, 7, 10), (2, 3, 4, 6, 7, 11), (2, 3, 4, 6, 8, 9), (2, 3, 4, 6, 8, 10), (2, 3, 4, 6, 8, 11), (2, 3, 4, 6, 9, 10), (2, 3, 4, 6, 9, 11), (2, 3, 4, 6, 10, 11), (2, 3, 4, 7, 8, 9), (2, 3, 4, 7, 8, 10), (2, 3, 4, 7, 8, 11), (2, 3, 4, 7, 9, 10), (2, 3, 4, 7, 9, 11), (2, 3, 4, 7, 10, 11), (2, 3, 4, 8, 9, 10), (2, 3, 4, 8, 9, 11), (2, 3, 4, 8, 10, 11), (2, 3, 4, 9, 10, 11), (2, 3, 5, 6, 7, 8), (2, 3, 5, 6, 7, 9), (2, 3, 5, 6, 7, 10), (2, 3, 5, 6, 7, 11), (2, 3, 5, 6, 8, 9), (2, 3, 5, 6, 8, 10), (2, 3, 5, 6, 8, 11), (2, 3, 5, 6, 9, 10), (2, 3, 5, 6, 9, 11), (2, 3, 5, 6, 10, 11), (2, 3, 5, 7, 8, 9), (2, 3, 5, 7, 8, 10), (2, 3, 5, 7, 8, 11), (2, 3, 5, 7, 9, 10), (2, 3, 5, 7, 9, 11), (2, 3, 5, 7, 10, 11), (2, 3, 5, 8, 9, 10), (2, 3, 5, 8, 9, 11), (2, 3, 5, 8, 10, 11), (2, 3, 5, 9, 10, 11), (2, 3, 6, 7, 8, 9), (2, 3, 6, 7, 8, 10), (2, 3, 6, 7, 8, 11), (2, 3, 6, 7, 9, 10), (2, 3, 6, 7, 9, 11), (2, 3, 6, 7, 10, 11), (2, 3, 6, 8, 9, 10), (2, 3, 6, 8, 9, 11), (2, 3, 6, 8, 10, 11), (2, 3, 6, 9, 10, 11), (2, 3, 7, 8, 9, 10), (2, 3, 7, 8, 9, 11), (2, 3, 7, 8, 10, 11), (2, 3, 7, 9, 10, 11), (2, 3, 8, 9, 10, 11), (2, 4, 5, 6, 7, 8), (2, 4, 5, 6, 7, 9), (2, 4, 5, 6, 7, 10), (2, 4, 5, 6, 7, 11), (2, 4, 5, 6, 8, 9), (2, 4, 5, 6, 8, 10), (2, 4, 5, 6, 8, 11), (2, 4, 5, 6, 9, 10), (2, 4, 5, 6, 9, 11), (2, 4, 5, 6, 10, 11), (2, 4, 5, 7, 8, 9), (2, 4, 5, 7, 8, 10), (2, 4, 5, 7, 8, 11), (2, 4, 5, 7, 9, 10), (2, 4, 5, 7, 9, 11), (2, 4, 5, 7, 10, 11), (2, 4, 5, 8, 9, 10), (2, 4, 5, 8, 9, 11), (2, 4, 5, 8, 10, 11), (2, 4, 5, 9, 10, 11), (2, 4, 6, 7, 8, 9), (2, 4, 6, 7, 8, 10), (2, 4, 6, 7, 8, 11), (2, 4, 6, 7, 9, 10), (2, 4, 6, 7, 9, 11), (2, 4, 6, 7, 10, 11), (2, 4, 6, 8, 9, 10), (2, 4, 6, 8, 9, 11), (2, 4, 6, 8, 10, 11), (2, 4, 6, 9, 10, 11), (2, 4, 7, 8, 9, 10), (2, 4, 7, 8, 9, 11), (2, 4, 7, 8, 10, 11), (2, 4, 7, 9, 10, 11), (2, 4, 8, 9, 10, 11), (2, 5, 6, 7, 8, 9), (2, 5, 6, 7, 8, 10), (2, 5, 6, 7, 8, 11), (2, 5, 6, 7, 9, 10), (2, 5, 6, 7, 9, 11), (2, 5, 6, 7, 10, 11), (2, 5, 6, 8, 9, 10), (2, 5, 6, 8, 9, 11), (2, 5, 6, 8, 10, 11), (2, 5, 6, 9, 10, 11), (2, 5, 7, 8, 9, 10), (2, 5, 7, 8, 9, 11), (2, 5, 7, 8, 10, 11), (2, 5, 7, 9, 10, 11), (2, 5, 8, 9, 10, 11), (2, 6, 7, 8, 9, 10), (2, 6, 7, 8, 9, 11), (2, 6, 7, 8, 10, 11), (2, 6, 7, 9, 10, 11), (2, 6, 8, 9, 10, 11), (2, 7, 8, 9, 10, 11), (3, 4, 5, 6, 7, 8), (3, 4, 5, 6, 7, 9), (3, 4, 5, 6, 7, 10), (3, 4, 5, 6, 7, 11), (3, 4, 5, 6, 8, 9), (3, 4, 5, 6, 8, 10), (3, 4, 5, 6, 8, 11), (3, 4, 5, 6, 9, 10), (3, 4, 5, 6, 9, 11), (3, 4, 5, 6, 10, 11), (3, 4, 5, 7, 8, 9), (3, 4, 5, 7, 8, 10), (3, 4, 5, 7, 8, 11), (3, 4, 5, 7, 9, 10), (3, 4, 5, 7, 9, 11), (3, 4, 5, 7, 10, 11), (3, 4, 5, 8, 9, 10), (3, 4, 5, 8, 9, 11), (3, 4, 5, 8, 10, 11), (3, 4, 5, 9, 10, 11), (3, 4, 6, 7, 8, 9), (3, 4, 6, 7, 8, 10), (3, 4, 6, 7, 8, 11), (3, 4, 6, 7, 9, 10), (3, 4, 6, 7, 9, 11), (3, 4, 6, 7, 10, 11), (3, 4, 6, 8, 9, 10), (3, 4, 6, 8, 9, 11), (3, 4, 6, 8, 10, 11), (3, 4, 6, 9, 10, 11), (3, 4, 7, 8, 9, 10), (3, 4, 7, 8, 9, 11), (3, 4, 7, 8, 10, 11), (3, 4, 7, 9, 10, 11), (3, 4, 8, 9, 10, 11), (3, 5, 6, 7, 8, 9), (3, 5, 6, 7, 8, 10), (3, 5, 6, 7, 8, 11), (3, 5, 6, 7, 9, 10), (3, 5, 6, 7, 9, 11), (3, 5, 6, 7, 10, 11), (3, 5, 6, 8, 9, 10), (3, 5, 6, 8, 9, 11), (3, 5, 6, 8, 10, 11), (3, 5, 6, 9, 10, 11), (3, 5, 7, 8, 9, 10), (3, 5, 7, 8, 9, 11), (3, 5, 7, 8, 10, 11), (3, 5, 7, 9, 10, 11), (3, 5, 8, 9, 10, 11), (3, 6, 7, 8, 9, 10), (3, 6, 7, 8, 9, 11), (3, 6, 7, 8, 10, 11), (3, 6, 7, 9, 10, 11), (3, 6, 8, 9, 10, 11), (3, 7, 8, 9, 10, 11), (4, 5, 6, 7, 8, 9), (4, 5, 6, 7, 8, 10), (4, 5, 6, 7, 8, 11), (4, 5, 6, 7, 9, 10), (4, 5, 6, 7, 9, 11), (4, 5, 6, 7, 10, 11), (4, 5, 6, 8, 9, 10), (4, 5, 6, 8, 9, 11), (4, 5, 6, 8, 10, 11), (4, 5, 6, 9, 10, 11), (4, 5, 7, 8, 9, 10), (4, 5, 7, 8, 9, 11), (4, 5, 7, 8, 10, 11), (4, 5, 7, 9, 10, 11), (4, 5, 8, 9, 10, 11), (4, 6, 7, 8, 9, 10), (4, 6, 7, 8, 9, 11), (4, 6, 7, 8, 10, 11), (4, 6, 7, 9, 10, 11), (4, 6, 8, 9, 10, 11), (4, 7, 8, 9, 10, 11), (5, 6, 7, 8, 9, 10), (5, 6, 7, 8, 9, 11), (5, 6, 7, 8, 10, 11), (5, 6, 7, 9, 10, 11), (5, 6, 8, 9, 10, 11), (5, 7, 8, 9, 10, 11), (6, 7, 8, 9, 10, 11)]\n"
     ]
    }
   ],
   "source": [
    "# Show the different ways of selecting no_cups_milk_first out of no_cups cups of tea.\n",
    "combs = list(itertools.combinations(labels, no_cups_milk_first))\n",
    "\n",
    "# Shows all the possible combination of 6 cups \n",
    "print (combs)"
   ]
  },
  {
   "cell_type": "code",
   "execution_count": 33,
   "metadata": {},
   "outputs": [
    {
     "data": {
      "text/plain": [
       "(0, 2, 7, 9, 10, 11)"
      ]
     },
     "execution_count": 33,
     "metadata": {},
     "output_type": "execute_result"
    }
   ],
   "source": [
    "# Select a combination of 6 cups at random\n",
    "random.choice(combs)"
   ]
  },
  {
   "cell_type": "code",
   "execution_count": 57,
   "metadata": {},
   "outputs": [
    {
     "name": "stdout",
     "output_type": "stream",
     "text": [
      "[4, 7, 8, 9, 10, 11]\n"
     ]
    }
   ],
   "source": [
    "# Genrate 6 random cups to have the milk added first \n",
    "cups_milk_first = random.sample (labels, 6)\n",
    "\n",
    "#Sort number of cups in order for tidyness\n",
    "cups_milk_first. sort()\n",
    "\n",
    "print (cups_milk_first)"
   ]
  },
  {
   "cell_type": "markdown",
   "metadata": {},
   "source": [
    "Need to convert cups_milk_first and combs into sets - as it is a more useful data structure for ease of figuring out when they overlap as sets have no ordering "
   ]
  },
  {
   "cell_type": "code",
   "execution_count": null,
   "metadata": {},
   "outputs": [
    {
     "data": {
      "text/plain": [
       "{4, 7, 8, 9, 10, 11}"
      ]
     },
     "execution_count": 60,
     "metadata": {},
     "output_type": "execute_result"
    }
   ],
   "source": [
    "# Turn cups_milk_first into a set\n",
    "set(cups_milk_first)"
   ]
  },
  {
   "cell_type": "code",
   "execution_count": null,
   "metadata": {},
   "outputs": [],
   "source": [
    "# Calculate the overlap between each element of combs and cups_milk_first.\n",
    "\n",
    "no_overlaps = []\n",
    "\n",
    "for comb in combs:\n",
    "  # Turn comb into a set.\n",
    "  s1 = set(comb)\n",
    "  # Turn labels_milk into a set.\n",
    "  s2 = set(cups_milk_first)\n",
    "  # Figure out where they overlap.\n",
    "  overlap = s1.intersection(s2)\n",
    "  # Show the combination and the overlap.\n",
    "  print(comb, overlap, len(overlap))\n",
    "  # Append overlap to no_overlaps.\n",
    "  no_overlaps.append(len(overlap))"
   ]
  },
  {
   "cell_type": "code",
   "execution_count": 62,
   "metadata": {},
   "outputs": [
    {
     "data": {
      "text/plain": [
       "(array([0, 1, 2, 3, 4, 5, 6]),\n",
       " array([  1,  36, 225, 400, 225,  36,   1], dtype=int64))"
      ]
     },
     "execution_count": 62,
     "metadata": {},
     "output_type": "execute_result"
    }
   ],
   "source": [
    "# Count the number of times each overlap occurs.\n",
    "counts = np.unique(no_overlaps, return_counts=True)\n",
    "\n",
    "# Show.\n",
    "counts"
   ]
  },
  {
   "cell_type": "code",
   "execution_count": 175,
   "metadata": {},
   "outputs": [
    {
     "data": {
      "text/plain": [
       "<BarContainer object of 7 artists>"
      ]
     },
     "execution_count": 175,
     "metadata": {},
     "output_type": "execute_result"
    },
    {
     "data": {
      "image/png": "[encoded data removed]",
      "text/plain": [
       "<Figure size 600x400 with 1 Axes>"
      ]
     },
     "metadata": {},
     "output_type": "display_data"
    }
   ],
   "source": [
    "# Create a figure.\n",
    "fig, ax = plt.subplots(figsize=(6, 4))\n",
    "\n",
    "plt.xlabel('No. Cups Selected Correctly out of 6')\n",
    "plt.ylabel('No. Ways to Select a No of Cups')\n",
    "plt.title('No. Ways to Select Different No of Cups Correctly')\n",
    "\n",
    "# Bar chart.\n",
    "ax.bar(counts[0], counts[1])"
   ]
  },
  {
   "cell_type": "code",
   "execution_count": 253,
   "metadata": {},
   "outputs": [
    {
     "name": "stdout",
     "output_type": "stream",
     "text": [
      "0.001\n"
     ]
    }
   ],
   "source": [
    "# The probability that she selects all 6 cups correctly.\n",
    "probability_all_six_correct = (1 / ways)\n",
    "rounded_probability_all_six_correct = (round(probability_all_six_correct,3))\n",
    "print (rounded_probability_all_six_correct)"
   ]
  },
  {
   "cell_type": "code",
   "execution_count": 254,
   "metadata": {},
   "outputs": [
    {
     "name": "stdout",
     "output_type": "stream",
     "text": [
      "0.04\n"
     ]
    }
   ],
   "source": [
    "# The probability that she selects at least 5/6 cups correctly.\n",
    "probability_five_correct = ((1+36) / ways)\n",
    "rounded_probability_at_least_five_correct = (round(probability_five_correct,3))\n",
    "print (rounded_probability_at_least_five_correct)"
   ]
  },
  {
   "cell_type": "code",
   "execution_count": 257,
   "metadata": {},
   "outputs": [
    {
     "name": "stdout",
     "output_type": "stream",
     "text": [
      "0.284\n"
     ]
    }
   ],
   "source": [
    "# The probability that she selects at least 4/6 cups correctly.\n",
    "probability_four_correct = ((1+36+225) / ways)\n",
    "rounded_proability_at_least_four_correct = (round(probability_four_correct,3))\n",
    "print(rounded_proability_at_least_four_correct)"
   ]
  },
  {
   "cell_type": "code",
   "execution_count": 258,
   "metadata": {},
   "outputs": [
    {
     "name": "stdout",
     "output_type": "stream",
     "text": [
      "0.716\n"
     ]
    }
   ],
   "source": [
    "# The probability that she selects at least 3/6 cups correctly.\n",
    "probability_three_correct = ((1+36+225+400) / ways)\n",
    "rounded_probability_at_least_three_correct = (round(probability_three_correct,3))\n",
    "print (rounded_probability_at_least_three_correct)"
   ]
  },
  {
   "cell_type": "code",
   "execution_count": 259,
   "metadata": {},
   "outputs": [
    {
     "name": "stdout",
     "output_type": "stream",
     "text": [
      "[0.001 0.04  0.284 0.716]\n"
     ]
    }
   ],
   "source": [
    "# Create array of all selections_probability\n",
    "selections_probability = (rounded_probability_all_six_correct,rounded_probability_at_least_five_correct,rounded_proability_at_least_four_correct,rounded_probability_at_least_three_correct)\n",
    "\n",
    "print (np.array (selections_probability))\n"
   ]
  },
  {
   "cell_type": "code",
   "execution_count": 260,
   "metadata": {},
   "outputs": [
    {
     "data": {
      "text/plain": [
       "<function matplotlib.pyplot.show(close=None, block=None)>"
      ]
     },
     "execution_count": 260,
     "metadata": {},
     "output_type": "execute_result"
    },
    {
     "data": {
      "image/png": "[encoded data removed]",
      "text/plain": [
       "<Figure size 600x400 with 1 Axes>"
      ]
     },
     "metadata": {},
     "output_type": "display_data"
    }
   ],
   "source": [
    "fig, ax = plt.subplots(figsize=(6, 4))\n",
    "\n",
    "x = [\"6/6 Cups\",\" 5/6 Cups\",\"4/6 Cups\",\" 3/6 Cups\"]\n",
    "y = selections_probability\n",
    "\n",
    "barplot = plt.bar(x,y,fc=\"lightgreen\", ec=\"green\")\n",
    "plt.xlabel('No. (At Least) Cups Selected ')\n",
    "plt.ylabel('Probability')\n",
    "plt.title('Selection Proabilites')\n",
    "\n",
    "plt.bar_label (barplot, labels = y, label_type= \"edge\") \n",
    "\n",
    "plt.show"
   ]
  },
  {
   "cell_type": "markdown",
   "metadata": {},
   "source": []
  }
 ],
 "metadata": {
  "kernelspec": {
   "display_name": "Python 3",
   "language": "python",
   "name": "python3"
  },
  "language_info": {
   "codemirror_mode": {
    "name": "ipython",
    "version": 3
   },
   "file_extension": ".py",
   "mimetype": "text/x-python",
   "name": "python",
   "nbconvert_exporter": "python",
   "pygments_lexer": "ipython3",
   "version": "3.11.9"
  }
 },
 "nbformat": 4,
 "nbformat_minor": 2
}
