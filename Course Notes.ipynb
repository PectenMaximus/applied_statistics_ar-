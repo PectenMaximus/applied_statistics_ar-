{
 "cells": [
  {
   "cell_type": "markdown",
   "metadata": {},
   "source": [
    "# Course Notes\n",
    "\n",
    "## Week 3\n",
    "\n",
    "### 1. Lady Tasting Tea \n",
    "\n",
    "Test where a lady can tell if the milk was added or not added to a cup before the tea was made - they make her 8 cups of tea where 4 are made one way and 4 another and then they ask her to taste the tea and declare which way each is made - everyway of ordering the 8 cups was also important for the test\n",
    "\n"
   ]
  }
 ],
 "metadata": {
  "language_info": {
   "name": "python"
  }
 },
 "nbformat": 4,
 "nbformat_minor": 2
}
