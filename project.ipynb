{
 "cells": [
  {
   "cell_type": "markdown",
   "metadata": {},
   "source": [
    "## 2425 Applied Statistics Final Project- Plant Growth\n",
    "-------------------\n",
    "**Author:** Alec Reid\n",
    "\n",
    "**Student Number:** G00411003\n",
    "\n",
    "**Date Commeced:** 27/12/2024\n",
    "\n",
    "------------------- "
   ]
  },
  {
   "cell_type": "markdown",
   "metadata": {},
   "source": [
    "#### References and Sources\n",
    "- https://sparkbyexamples.com/pandas/split-pandas-dataframe-by-column-value/#:~:text=Split%20DataFrame%20by%20Unique%20Column,utilizing%20the%20get_group()%20function.\n",
    "- https://www.edlitera.com/blog/posts/pandas-add-rename-remove-columns#:~:text=To%20remove%20a%20column%20from,want%20to%20modify%20our%20DataFrame.\n",
    "- https://vincentarelbundock.github.io/Rdatasets/doc/datasets/PlantGrowth.html\n",
    "- https://pandas.pydata.org/docs/reference/api/pandas.DataFrame.boxplot.html\n",
    "- https://datatab.net/tutorial/levene-test"
   ]
  },
  {
   "cell_type": "markdown",
   "metadata": {},
   "source": [
    "### Table of Contents:\n",
    "\n",
    "1. Imports \n",
    "2. Plant Growth Data Frame Overview  \n",
    "3. T-test of Groups Treatment 1 and Treatment 2\n",
    "4. ANOVA of Plant Groups Control, Treatment 1 and Treatment 2\n",
    "5. Conclusion and Observations on Plant Growth Data Set"
   ]
  },
  {
   "cell_type": "markdown",
   "metadata": {},
   "source": [
    "------------"
   ]
  },
  {
   "cell_type": "markdown",
   "metadata": {},
   "source": [
    "### (1.) Imports"
   ]
  },
  {
   "cell_type": "code",
   "execution_count": 166,
   "metadata": {},
   "outputs": [],
   "source": [
    "# Numerical arrays.\n",
    "import numpy as np\n",
    "\n",
    "# Statistical functions.\n",
    "import scipy.stats as stats\n",
    "\n",
    "# Data frames.\n",
    "import pandas as pd\n",
    "\n",
    "# Plotting.\n",
    "import matplotlib.pyplot as plt\n",
    "\n",
    "# Statistical plots.\n",
    "import seaborn as sns"
   ]
  },
  {
   "cell_type": "markdown",
   "metadata": {},
   "source": [
    "-----------------"
   ]
  },
  {
   "cell_type": "markdown",
   "metadata": {},
   "source": [
    "### (2.) Plant Growth Data Frame Overview"
   ]
  },
  {
   "cell_type": "markdown",
   "metadata": {},
   "source": [
    "#### (2.1) Dataframe Overview:\n",
    "- Results from an experiment to compare yields (as measured by dried weight of plants) obtained under a control and two different treatment conditions.\n",
    "- 30 samples were weighed - 10 for control method, 10 for treatment method 1, 10 for treatment method 2"
   ]
  },
  {
   "cell_type": "code",
   "execution_count": null,
   "metadata": {},
   "outputs": [],
   "source": [
    "# Read the CSV file\n",
    "PG = pd.read_csv(\"PlantGrowth.CSV\")\n",
    "\n",
    "# View data\n",
    "PG"
   ]
  },
  {
   "cell_type": "code",
   "execution_count": null,
   "metadata": {},
   "outputs": [],
   "source": [
    "# Remove unneeded columns\n",
    "PG.drop(columns =[\"rownames\"], inplace=True)\n",
    "\n",
    "#Show\n",
    "PG"
   ]
  },
  {
   "cell_type": "code",
   "execution_count": 157,
   "metadata": {},
   "outputs": [
    {
     "data": {
      "image/png": "[encoded data removed]",
      "text/plain": [
       "<Figure size 640x480 with 1 Axes>"
      ]
     },
     "metadata": {},
     "output_type": "display_data"
    }
   ],
   "source": [
    "# Boxplot of each dried plant weight for each group\n",
    "sns.boxplot(data=PG, x='group', y='weight', hue='group')\n",
    "plt.title(\"Box Plot of Dried Plant Weight\")\n",
    "plt.xlabel(\"Group\")\n",
    "plt.ylabel(\"Plant Weight\")\n",
    "plt.show()"
   ]
  },
  {
   "cell_type": "markdown",
   "metadata": {},
   "source": [
    "#### (2.2) Observations from Box Plot:\n",
    "**Control Group**\n",
    "- The control group appears to have a higer yield than treatment 1 and a lesser yeild than treatment 2.\n",
    "\n",
    "**Treatment 1 Group**\n",
    "- The treatment 1 group appears to return the lowest yeild in dried plant weight and the highest recored values observed for this yeild are clear outliers to the other values observed.\n",
    "- ***Note** - Outlines should be considered for exclusion for statistical tests.*\n",
    "\n",
    "**Treatment 2 Group** \n",
    "- The treatment 2 group appears to return the highest yiel in dried plant weight and has a visibly low standard deviation in values observed with no outliers."
   ]
  },
  {
   "cell_type": "code",
   "execution_count": null,
   "metadata": {},
   "outputs": [],
   "source": [
    "# Splitting plant growth data frame into differnt group type data frames\n",
    "PG_grouped = PG.groupby (['group'])\n",
    "\n",
    "PG_ctrl = PG_grouped.get_group(\"ctrl\")\n",
    "PG_trt1 = PG_grouped.get_group(\"trt1\")\n",
    "PG_trt2 = PG_grouped.get_group(\"trt2\")\n",
    "\n",
    "# Show Data \n",
    "print (PG_ctrl)\n",
    "print (PG_trt1)\n",
    "print (PG_trt2)\n"
   ]
  },
  {
   "cell_type": "code",
   "execution_count": null,
   "metadata": {},
   "outputs": [
    {
     "data": {
      "text/html": [
       "<div>\n",
       "<style scoped>\n",
       "    .dataframe tbody tr th:only-of-type {\n",
       "        vertical-align: middle;\n",
       "    }\n",
       "\n",
       "    .dataframe tbody tr th {\n",
       "        vertical-align: top;\n",
       "    }\n",
       "\n",
       "    .dataframe thead th {\n",
       "        text-align: right;\n",
       "    }\n",
       "</style>\n",
       "<table border=\"1\" class=\"dataframe\">\n",
       "  <thead>\n",
       "    <tr style=\"text-align: right;\">\n",
       "      <th></th>\n",
       "      <th>weight</th>\n",
       "    </tr>\n",
       "  </thead>\n",
       "  <tbody>\n",
       "    <tr>\n",
       "      <th>count</th>\n",
       "      <td>10.000000</td>\n",
       "    </tr>\n",
       "    <tr>\n",
       "      <th>mean</th>\n",
       "      <td>5.032000</td>\n",
       "    </tr>\n",
       "    <tr>\n",
       "      <th>std</th>\n",
       "      <td>0.583091</td>\n",
       "    </tr>\n",
       "    <tr>\n",
       "      <th>min</th>\n",
       "      <td>4.170000</td>\n",
       "    </tr>\n",
       "    <tr>\n",
       "      <th>25%</th>\n",
       "      <td>4.550000</td>\n",
       "    </tr>\n",
       "    <tr>\n",
       "      <th>50%</th>\n",
       "      <td>5.155000</td>\n",
       "    </tr>\n",
       "    <tr>\n",
       "      <th>75%</th>\n",
       "      <td>5.292500</td>\n",
       "    </tr>\n",
       "    <tr>\n",
       "      <th>max</th>\n",
       "      <td>6.110000</td>\n",
       "    </tr>\n",
       "  </tbody>\n",
       "</table>\n",
       "</div>"
      ],
      "text/plain": [
       "          weight\n",
       "count  10.000000\n",
       "mean    5.032000\n",
       "std     0.583091\n",
       "min     4.170000\n",
       "25%     4.550000\n",
       "50%     5.155000\n",
       "75%     5.292500\n",
       "max     6.110000"
      ]
     },
     "execution_count": 122,
     "metadata": {},
     "output_type": "execute_result"
    }
   ],
   "source": [
    "# Description of dataframe for control group\n",
    "PG_ctrl.describe()"
   ]
  },
  {
   "cell_type": "code",
   "execution_count": null,
   "metadata": {},
   "outputs": [
    {
     "data": {
      "text/html": [
       "<div>\n",
       "<style scoped>\n",
       "    .dataframe tbody tr th:only-of-type {\n",
       "        vertical-align: middle;\n",
       "    }\n",
       "\n",
       "    .dataframe tbody tr th {\n",
       "        vertical-align: top;\n",
       "    }\n",
       "\n",
       "    .dataframe thead th {\n",
       "        text-align: right;\n",
       "    }\n",
       "</style>\n",
       "<table border=\"1\" class=\"dataframe\">\n",
       "  <thead>\n",
       "    <tr style=\"text-align: right;\">\n",
       "      <th></th>\n",
       "      <th>weight</th>\n",
       "    </tr>\n",
       "  </thead>\n",
       "  <tbody>\n",
       "    <tr>\n",
       "      <th>count</th>\n",
       "      <td>10.000000</td>\n",
       "    </tr>\n",
       "    <tr>\n",
       "      <th>mean</th>\n",
       "      <td>4.661000</td>\n",
       "    </tr>\n",
       "    <tr>\n",
       "      <th>std</th>\n",
       "      <td>0.793676</td>\n",
       "    </tr>\n",
       "    <tr>\n",
       "      <th>min</th>\n",
       "      <td>3.590000</td>\n",
       "    </tr>\n",
       "    <tr>\n",
       "      <th>25%</th>\n",
       "      <td>4.207500</td>\n",
       "    </tr>\n",
       "    <tr>\n",
       "      <th>50%</th>\n",
       "      <td>4.550000</td>\n",
       "    </tr>\n",
       "    <tr>\n",
       "      <th>75%</th>\n",
       "      <td>4.870000</td>\n",
       "    </tr>\n",
       "    <tr>\n",
       "      <th>max</th>\n",
       "      <td>6.030000</td>\n",
       "    </tr>\n",
       "  </tbody>\n",
       "</table>\n",
       "</div>"
      ],
      "text/plain": [
       "          weight\n",
       "count  10.000000\n",
       "mean    4.661000\n",
       "std     0.793676\n",
       "min     3.590000\n",
       "25%     4.207500\n",
       "50%     4.550000\n",
       "75%     4.870000\n",
       "max     6.030000"
      ]
     },
     "execution_count": 123,
     "metadata": {},
     "output_type": "execute_result"
    }
   ],
   "source": [
    "# Description of dataset for treatment 1 group\n",
    "PG_trt1.describe()"
   ]
  },
  {
   "cell_type": "code",
   "execution_count": null,
   "metadata": {},
   "outputs": [
    {
     "data": {
      "text/html": [
       "<div>\n",
       "<style scoped>\n",
       "    .dataframe tbody tr th:only-of-type {\n",
       "        vertical-align: middle;\n",
       "    }\n",
       "\n",
       "    .dataframe tbody tr th {\n",
       "        vertical-align: top;\n",
       "    }\n",
       "\n",
       "    .dataframe thead th {\n",
       "        text-align: right;\n",
       "    }\n",
       "</style>\n",
       "<table border=\"1\" class=\"dataframe\">\n",
       "  <thead>\n",
       "    <tr style=\"text-align: right;\">\n",
       "      <th></th>\n",
       "      <th>weight</th>\n",
       "    </tr>\n",
       "  </thead>\n",
       "  <tbody>\n",
       "    <tr>\n",
       "      <th>count</th>\n",
       "      <td>10.000000</td>\n",
       "    </tr>\n",
       "    <tr>\n",
       "      <th>mean</th>\n",
       "      <td>5.526000</td>\n",
       "    </tr>\n",
       "    <tr>\n",
       "      <th>std</th>\n",
       "      <td>0.442573</td>\n",
       "    </tr>\n",
       "    <tr>\n",
       "      <th>min</th>\n",
       "      <td>4.920000</td>\n",
       "    </tr>\n",
       "    <tr>\n",
       "      <th>25%</th>\n",
       "      <td>5.267500</td>\n",
       "    </tr>\n",
       "    <tr>\n",
       "      <th>50%</th>\n",
       "      <td>5.435000</td>\n",
       "    </tr>\n",
       "    <tr>\n",
       "      <th>75%</th>\n",
       "      <td>5.735000</td>\n",
       "    </tr>\n",
       "    <tr>\n",
       "      <th>max</th>\n",
       "      <td>6.310000</td>\n",
       "    </tr>\n",
       "  </tbody>\n",
       "</table>\n",
       "</div>"
      ],
      "text/plain": [
       "          weight\n",
       "count  10.000000\n",
       "mean    5.526000\n",
       "std     0.442573\n",
       "min     4.920000\n",
       "25%     5.267500\n",
       "50%     5.435000\n",
       "75%     5.735000\n",
       "max     6.310000"
      ]
     },
     "execution_count": 124,
     "metadata": {},
     "output_type": "execute_result"
    }
   ],
   "source": [
    "# Description of dataset for treatment 2 group\n",
    "PG_trt2.describe()"
   ]
  },
  {
   "cell_type": "markdown",
   "metadata": {},
   "source": [
    "#### (2.3) Observations from Group Descriptions:\n",
    "\n",
    "**Control Group**\n",
    "- **Mean Value** = 5.03 (Highest of 3 groups)\n",
    "- **Standard Deviation** = 0.58 (2nd Highest of 3 groups)\n",
    "\n",
    "**Treatment 1 Group**\n",
    "- **Mean Value** = 4.66 (Lowest of 3 groups)\n",
    "- **Standard Deviation** = 0.79 (Highest of 3 groups)\n",
    "- **Minimum Value** = 3.6 (Lowest of the 3 groups)\n",
    "\n",
    "**Treatment 2 Group**\n",
    "- **Mean Value** = 4.9 (2nd Highest of 3 groups)\n",
    "- **Standard Deviation** = 0.44 (Lowest of 3 groups)\n",
    "- **Maximum value** = 6.3 (Highest of 3 groups)\n"
   ]
  },
  {
   "cell_type": "markdown",
   "metadata": {},
   "source": [
    "#### (2.4) Null Hypothesis Based on Pre-Statistical Observations\n",
    "\n",
    "**Null Hypothesis 1**\n",
    "- Treatment 2 does not yeild a higher dried plant weight than treatment 1.\n",
    "\n",
    "**Null Hypothesis 2**\n",
    "- Treatement 2 does not yeild a higher dried plant weight than the control group. "
   ]
  },
  {
   "cell_type": "markdown",
   "metadata": {},
   "source": [
    "-------------"
   ]
  },
  {
   "cell_type": "markdown",
   "metadata": {},
   "source": [
    "#### (2) T-test of Groups Treatment 1 and Treatment 2:"
   ]
  },
  {
   "cell_type": "markdown",
   "metadata": {},
   "source": [
    "A t-test is an inferential statistic used to determine if there is a significant difference between the means of two groups and how they are related. "
   ]
  },
  {
   "cell_type": "code",
   "execution_count": null,
   "metadata": {},
   "outputs": [
    {
     "data": {
      "text/plain": [
       "TtestResult(statistic=-3.0100985421243616, pvalue=0.0075184261182198574, df=18.0)"
      ]
     },
     "execution_count": 158,
     "metadata": {},
     "output_type": "execute_result"
    }
   ],
   "source": [
    "# Perform a t-test betwwwn groups trt1 and trt2\n",
    "stats.ttest_ind(PG_trt1 ['weight'], PG_trt2 ['weight'])"
   ]
  },
  {
   "cell_type": "markdown",
   "metadata": {},
   "source": [
    "**Null Hypothesis 1:**\n",
    "\n",
    "- pvalue = 0.0075 which is below our significance threashold of 0.05, so we do not accept the null hypthesis.\n",
    "\n",
    "- In this case we can conclude there is a statistically significant difference in dried plant weight yeild between treatment 1 and treatment 2."
   ]
  },
  {
   "cell_type": "code",
   "execution_count": 160,
   "metadata": {},
   "outputs": [
    {
     "data": {
      "text/plain": [
       "TtestResult(statistic=-2.1340204531240654, pvalue=0.04685138491157359, df=18.0)"
      ]
     },
     "execution_count": 160,
     "metadata": {},
     "output_type": "execute_result"
    }
   ],
   "source": [
    "# Perform a t-test between groups trt2 and ctrl\n",
    "stats.ttest_ind(PG_ctrl['weight'], PG_trt2 ['weight'])"
   ]
  },
  {
   "cell_type": "markdown",
   "metadata": {},
   "source": [
    "**Null Hypotesis 2:**\n",
    "- pvalue = 0.045 which is just below our significance threashold of 0.05, so we do not accept the null hypthesis.\n",
    "- In this case we can conclude there is a statistically significant difference in dried plant weight yeild between treatment 2 and the control group."
   ]
  },
  {
   "cell_type": "markdown",
   "metadata": {},
   "source": [
    "---------------------"
   ]
  },
  {
   "cell_type": "markdown",
   "metadata": {},
   "source": [
    "### (3) ANOVA of Plant Groups Control, Treatment 1 and Treatment 2:\n",
    "\n",
    "#### (3.1) There are 6 assumptions we must satisfy in order to preform a one way ANOVA:\n",
    "\n",
    "- **Assumption 1** Your dependant variable should be measured at the interval or ratio level (i.e they need to be numbers).\n",
    "    - **Conclusion:** True for our weight values in Plant Growth Dataframe.\n",
    "\n",
    "- **Assumption 2** Your independent variable should consist of two or more categorical independant groups.\n",
    "    - **Conclusion:** True for our groups Control, Treatment 1 and Treatment 2.\n",
    "\n",
    "- **Assumption 3** You should have independence of observations, which means that there is no relationship between the observations in each group or between the groups themselves. (i.e there must be different participants in each group and no participant can be in more than 1 group)\n",
    "    - **Conclusion:** True for our groups, each plant weight has distinct ID. \n",
    "\n",
    "- **Assumption 4** There should ne no significant outliers. *(**note** - use a box plot to see if any outliers outside whisers)*\n",
    "    - **Conclusion:** Alothough treatment 1 has an outlier for values observed for dried plant weight against other values observed in the treatment 1 group, the outlier value is not outside the range of the values observed for dried plant weights in the other control group or treatment 2 group. "
   ]
  },
  {
   "cell_type": "markdown",
   "metadata": {},
   "source": [
    "**Assumption 5** Your dependent variable should be approximately normally distributed for each category of the independent variable. "
   ]
  },
  {
   "cell_type": "code",
   "execution_count": 162,
   "metadata": {},
   "outputs": [
    {
     "data": {
      "text/plain": [
       "ShapiroResult(statistic=0.9826830162369313, pvalue=0.8915073713066284)"
      ]
     },
     "execution_count": 162,
     "metadata": {},
     "output_type": "execute_result"
    }
   ],
   "source": [
    "# Shapiro wilks test to identify normal distribution\n",
    "stats.shapiro(PG ['weight'])"
   ]
  },
  {
   "cell_type": "markdown",
   "metadata": {},
   "source": [
    "- **Conclusion:** The pvalue generated in the shapiro-wilk test was 0.89 which is large and therfore indicates that the data is normally distributed."
   ]
  },
  {
   "cell_type": "code",
   "execution_count": 163,
   "metadata": {},
   "outputs": [
    {
     "data": {
      "image/png": "[encoded data removed]",
      "text/plain": [
       "<Figure size 640x480 with 1 Axes>"
      ]
     },
     "metadata": {},
     "output_type": "display_data"
    }
   ],
   "source": [
    "# Create an empty plot.\n",
    "fig, ax = plt.subplots()\n",
    "\n",
    "# Create a q-q plot.\n",
    "stats.probplot(PG['weight'], dist='norm', plot=ax);"
   ]
  },
  {
   "cell_type": "markdown",
   "metadata": {},
   "source": [
    "- **Conclusion:** The QQ plot reveals a straight line between the points - supporting our null hypothesis that the data is normally distributed. "
   ]
  },
  {
   "cell_type": "markdown",
   "metadata": {},
   "source": [
    "**Assumption 6** There needs to be homogeneity of varianeces. "
   ]
  },
  {
   "cell_type": "code",
   "execution_count": null,
   "metadata": {},
   "outputs": [
    {
     "data": {
      "text/plain": [
       "1.1191856948703909"
      ]
     },
     "execution_count": 171,
     "metadata": {},
     "output_type": "execute_result"
    }
   ],
   "source": [
    "#Use levene test to identify \n",
    "res = stats.levene(PG_ctrl['weight'],PG_trt1['weight'],PG_trt2['weight'])\n",
    "\n",
    "res.statistic"
   ]
  },
  {
   "cell_type": "markdown",
   "metadata": {},
   "source": [
    "**Conclusion:** If the p-value for the Levene test is greater than . 05, then the variances are not significantly different from each other (i.e., the homogeneity assumption of the variance is met). If the p-value for the Levene's test is less than . 05, then there is a significant difference between the variances."
   ]
  },
  {
   "cell_type": "markdown",
   "metadata": {},
   "source": [
    "#### (3.2) Perform One Way Anova:"
   ]
  },
  {
   "cell_type": "code",
   "execution_count": 173,
   "metadata": {},
   "outputs": [
    {
     "data": {
      "text/plain": [
       "(4.846087862380136, 0.015909958325622895)"
      ]
     },
     "execution_count": 173,
     "metadata": {},
     "output_type": "execute_result"
    }
   ],
   "source": [
    "#Perform ANOVA.\n",
    "f_statistic, p_value = stats.f_oneway(PG_ctrl['weight'], PG_trt1['weight'], PG_trt2['weight'])\n",
    "\n",
    "# Show.\n",
    "f_statistic, p_value"
   ]
  },
  {
   "cell_type": "markdown",
   "metadata": {},
   "source": [
    "#### (3.3) Observations of One Way Anova:"
   ]
  },
  {
   "cell_type": "markdown",
   "metadata": {},
   "source": []
  }
 ],
 "metadata": {
  "kernelspec": {
   "display_name": "Python 3",
   "language": "python",
   "name": "python3"
  },
  "language_info": {
   "codemirror_mode": {
    "name": "ipython",
    "version": 3
   },
   "file_extension": ".py",
   "mimetype": "text/x-python",
   "name": "python",
   "nbconvert_exporter": "python",
   "pygments_lexer": "ipython3",
   "version": "3.11.9"
  }
 },
 "nbformat": 4,
 "nbformat_minor": 2
}
