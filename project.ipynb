{
 "cells": [
  {
   "cell_type": "markdown",
   "metadata": {},
   "source": [
    "## 2425 Applied Statistics Final Project- Plant Growth\n",
    "-------------------\n",
    "**Author:** Alec Reid\n",
    "\n",
    "**Student Number:** G00411003\n",
    "\n",
    "**Date Commeced:** 27/12/2024\n",
    "\n",
    "------------------- "
   ]
  },
  {
   "cell_type": "markdown",
   "metadata": {},
   "source": [
    "### Table of Contents:\n",
    "\n",
    "1. Download Plant Growth Data Set\n",
    "2. Description of Plant Growth Data Set\n",
    "3. T-test of Plant Growth Data Set\n",
    "4. ANOVA of Plant Growth Data Set\n",
    "5. Conclusion and Observations on Plant Growth Data Set\n",
    "6. References and Sources"
   ]
  },
  {
   "cell_type": "code",
   "execution_count": 3,
   "metadata": {},
   "outputs": [],
   "source": [
    "# Numerical arrays.\n",
    "import numpy as np\n",
    "\n",
    "# Statistical functions.\n",
    "import scipy.stats as stats\n",
    "\n",
    "# Data frames.\n",
    "import pandas as pd\n",
    "\n",
    "# Plotting.\n",
    "import matplotlib.pyplot as plt\n",
    "\n",
    "# Statistical plots.\n",
    "import seaborn as sns"
   ]
  },
  {
   "cell_type": "markdown",
   "metadata": {},
   "source": [
    "### (1.) Download Plant Growth Data Set"
   ]
  },
  {
   "cell_type": "code",
   "execution_count": 4,
   "metadata": {},
   "outputs": [],
   "source": [
    "import pandas as pd\n",
    "\n",
    "# Read the CSV file\n",
    "PlantGrowth = pd.read_csv(\"PlantGrowth.CSV\")"
   ]
  }
 ],
 "metadata": {
  "kernelspec": {
   "display_name": "Python 3",
   "language": "python",
   "name": "python3"
  },
  "language_info": {
   "codemirror_mode": {
    "name": "ipython",
    "version": 3
   },
   "file_extension": ".py",
   "mimetype": "text/x-python",
   "name": "python",
   "nbconvert_exporter": "python",
   "pygments_lexer": "ipython3",
   "version": "3.11.9"
  }
 },
 "nbformat": 4,
 "nbformat_minor": 2
}
